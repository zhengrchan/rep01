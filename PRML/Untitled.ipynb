{
 "cells": [
  {
   "cell_type": "markdown",
   "metadata": {},
   "source": [
    "# Regularized Curve Fitting In Python"
   ]
  },
  {
   "cell_type": "code",
   "execution_count": 1,
   "metadata": {},
   "outputs": [],
   "source": [
    "import numpy as np\n",
    "import matplotlib.pyplot as plt\n",
    "import itertools\n",
    "import functools\n",
    "np.random.seed(1234)"
   ]
  },
  {
   "cell_type": "code",
   "execution_count": 3,
   "metadata": {},
   "outputs": [],
   "source": [
    "# Create training data and test data\n",
    "def createSin(x):\n",
    "    return np.sin(2 * np.pi * x)\n",
    "\n",
    "def createTrainData(createSin, sample_size, std):\n",
    "    x = np.linspace(0, 1, sample_size)\n",
    "    t = createSin(x) + np.random.normal(scale = std, size = x.shape)\n",
    "    return x, t\n",
    "\n",
    "x_train, y_train = createTrainData(createSin, 11, 0.25)\n",
    "x_test = np.linspace(0, 1, 100)\n",
    "y_test = createSin(x_test)"
   ]
  },
  {
   "cell_type": "code",
   "execution_count": null,
   "metadata": {},
   "outputs": [],
   "source": [
    "# compute X\n",
    "def createX(x, degree):\n",
    "    x_t = x.transpose()\n",
    "    X = [np.ones(len(x))]\n",
    "    for i in range(1, degree+1):\n",
    "        for items in itertools.combinations_with_replacement(x_t, i):\n",
    "            X.append(functools.reduce(lambda x, y: x * y, items ))\n",
    "    return np.asarray(X).transpose()\n",
    "\n",
    "degree = 9\n",
    "X_train = createX(x_train, degree)\n",
    "X_test = createX(x_test, degree)"
   ]
  },
  {
   "cell_type": "code",
   "execution_count": null,
   "metadata": {},
   "outputs": [],
   "source": []
  }
 ],
 "metadata": {
  "kernelspec": {
   "display_name": "Python 3",
   "language": "python",
   "name": "python3"
  },
  "language_info": {
   "codemirror_mode": {
    "name": "ipython",
    "version": 3
   },
   "file_extension": ".py",
   "mimetype": "text/x-python",
   "name": "python",
   "nbconvert_exporter": "python",
   "pygments_lexer": "ipython3",
   "version": "3.6.5"
  }
 },
 "nbformat": 4,
 "nbformat_minor": 2
}
