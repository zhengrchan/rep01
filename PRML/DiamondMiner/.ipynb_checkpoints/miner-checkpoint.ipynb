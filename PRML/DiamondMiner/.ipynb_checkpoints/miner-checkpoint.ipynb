{
 "cells": [
  {
   "cell_type": "code",
   "execution_count": 3,
   "metadata": {},
   "outputs": [
    {
     "name": "stdout",
     "output_type": "stream",
     "text": [
      "9\n",
      "8\n",
      "7\n",
      "6\n",
      "5\n",
      "4\n",
      "3\n",
      "2\n",
      "1\n",
      "0\n"
     ]
    }
   ],
   "source": [
    "for i in range(10-1, -1, -1):\n",
    "    print(i)"
   ]
  },
  {
   "cell_type": "code",
   "execution_count": 5,
   "metadata": {},
   "outputs": [],
   "source": [
    "def dpminer(mine, size):\n",
    "    #初始化\n",
    "    maxValue = np.zeros([size, size])\n",
    "    maxWay = np.zeros([size, size])\n",
    "    maxMoney = 0\n",
    "    \n",
    "    # 计算达到最大值经过的每一个子问题\n",
    "    for i in range(size):\n",
    "        maxValue[size-1-i][i] = mine[size-1-i][i]\n",
    "    for i in range(size-2, -1, -1):\n",
    "        for j in range(i):\n",
    "            maxValue[i-j][j] = mine[i-j][j] + max(maxValue[i-j+1][j], maxValue[i-j][j+1])\n",
    "    \n",
    "    # 计算达到最大值所需要经过的点\n",
    "    maxWay[0][0] = 1\n",
    "    j = 0\n",
    "    k = 0\n",
    "    for i in range(size-1):\n",
    "        if maxValue[j+1][k] > maxValue[j][k+1]:\n",
    "            maxWay[j+1][k] = 1\n",
    "            j = j+1\n",
    "        else:\n",
    "            maxWay[j][k+1] = 1\n",
    "            k = k+1\n",
    "            \n",
    "    # 计算最大价值\n",
    "    maxMoney = maxValue[0][0]\n",
    "    \n",
    "    return maxMoney, maxWay"
   ]
  },
  {
   "cell_type": "code",
   "execution_count": null,
   "metadata": {},
   "outputs": [],
   "source": []
  }
 ],
 "metadata": {
  "kernelspec": {
   "display_name": "Python 3",
   "language": "python",
   "name": "python3"
  },
  "language_info": {
   "codemirror_mode": {
    "name": "ipython",
    "version": 3
   },
   "file_extension": ".py",
   "mimetype": "text/x-python",
   "name": "python",
   "nbconvert_exporter": "python",
   "pygments_lexer": "ipython3",
   "version": "3.7.2"
  }
 },
 "nbformat": 4,
 "nbformat_minor": 2
}
