{
 "cells": [
  {
   "cell_type": "code",
   "execution_count": 3,
   "metadata": {},
   "outputs": [],
   "source": [
    "import numpy as np\n",
    "from numpy.linalg import cholesky\n",
    "import matplotlib.pyplot as plt\n",
    "sampleNo = 1000"
   ]
  },
  {
   "cell_type": "code",
   "execution_count": 5,
   "metadata": {},
   "outputs": [],
   "source": [
    "import random\n",
    "from matplotlib import cm\n",
    "from matplotlib import axes"
   ]
  },
  {
   "cell_type": "code",
   "execution_count": 21,
   "metadata": {},
   "outputs": [
    {
     "name": "stderr",
     "output_type": "stream",
     "text": [
      "/Users/chenzhengrui/anaconda3/lib/python3.7/site-packages/ipykernel_launcher.py:6: RuntimeWarning: covariance is not symmetric positive-semidefinite.\n",
      "  \n"
     ]
    },
    {
     "data": {
      "image/png": "[encoded data removed]",
      "text/plain": [
       "<Figure size 288x288 with 2 Axes>"
      ]
     },
     "metadata": {
      "needs_background": "light"
     },
     "output_type": "display_data"
    }
   ],
   "source": [
    "fig,axes = plt.subplots(nrows=1,ncols=1,figsize=(4,4))\n",
    "# 椭圆，但是椭圆的轴与坐标轴不一定平行\n",
    "mean = [0,0]\n",
    "cov = [[1,2.3],\n",
    "       [2.3,1.4]] \n",
    "x,y = np.random.multivariate_normal(mean,cov,50).T\n",
    "# axes.plot(x,y,'x')\n",
    "X = []\n",
    "X.append(x)\n",
    "X.append(y)\n",
    "plt.imshow(X, cmap = 'Blues')\n",
    "plt.colorbar(shrink = 0.5)\n",
    "plt.show()"
   ]
  },
  {
   "cell_type": "code",
   "execution_count": 67,
   "metadata": {},
   "outputs": [
    {
     "name": "stderr",
     "output_type": "stream",
     "text": [
      "/Users/chenzhengrui/anaconda3/lib/python3.7/site-packages/ipykernel_launcher.py:22: RuntimeWarning: covariance is not symmetric positive-semidefinite.\n"
     ]
    },
    {
     "data": {
      "text/plain": [
       "<matplotlib.colorbar.Colorbar at 0x11d0d6f60>"
      ]
     },
     "execution_count": 67,
     "metadata": {},
     "output_type": "execute_result"
    },
    {
     "data": {
      "image/png": "[encoded data removed]",
      "text/plain": [
       "<Figure size 432x288 with 2 Axes>"
      ]
     },
     "metadata": {
      "needs_background": "light"
     },
     "output_type": "display_data"
    }
   ],
   "source": [
    "# 自定义的高维高斯分布概率密度函数\n",
    "def gaussian(x,mean,cov):    \n",
    "    dim = np.shape(cov)[0] # 维度\n",
    "    covdet = np.linalg.det(cov+np.eye(dim)*0.01) # 协方差矩阵的秩\n",
    "    covinv = np.linalg.inv(cov+np.eye(dim)*0.01) # 协方差矩阵的逆\n",
    "    xdiff = x - mean\n",
    "    # 概率密度\n",
    "    prob = 1.0/np.power(2*np.pi,1.0*2/2)/np.sqrt(np.abs(covdet))*np.exp(-1.0/2*np.dot(np.dot(xdiff,covinv),xdiff))\n",
    "\n",
    "    return prob\n",
    "# 返回整型高斯值，并且是time倍的，作为矿价值\n",
    "def intGaussian(x, mean, cov, times):\n",
    "    prob = gaussian(x, mean, cov)\n",
    "    prob = prob * times\n",
    "    return prob.astype(int)\n",
    "\n",
    "\n",
    "# 作二维高斯概率密度函数的热力图\n",
    "mean = [0,0]\n",
    "cov = [[1,2.3],\n",
    "       [2.3,1.4]] \n",
    "x,y = np.random.multivariate_normal(mean,cov,500).T\n",
    "cov = np.cov(x,y) # 由真实数据计算得到的协方差矩阵，而不是自己任意设定\n",
    "n=50\n",
    "x = np.linspace(-6,6,n)\n",
    "y = np.linspace(-6,6,n)\n",
    "xx,yy = np.meshgrid(x, y)\n",
    "zz = np.zeros((n,n))\n",
    "for i in range(n):\n",
    "    for j in range(n):\n",
    "        zz[i][j] = intGaussian(np.array([xx[i][j],yy[i][j]]),mean,cov, 100)\n",
    "\n",
    "gci = plt.imshow(zz,cmap='Blues',origin='lower') # 选项origin='lower' 防止tuixan图像颠倒\n",
    "plt.colorbar(shrink = 0.5)\n"
   ]
  },
  {
   "cell_type": "code",
   "execution_count": 100,
   "metadata": {},
   "outputs": [
    {
     "name": "stderr",
     "output_type": "stream",
     "text": [
      "/Users/chenzhengrui/anaconda3/lib/python3.7/site-packages/ipykernel_launcher.py:21: RuntimeWarning: covariance is not symmetric positive-semidefinite.\n"
     ]
    },
    {
     "data": {
      "text/plain": [
       "<matplotlib.colorbar.Colorbar at 0x11f474dd8>"
      ]
     },
     "execution_count": 100,
     "metadata": {},
     "output_type": "execute_result"
    },
    {
     "data": {
      "image/png": "[encoded data removed]",
      "text/plain": [
       "<Figure size 432x288 with 2 Axes>"
      ]
     },
     "metadata": {
      "needs_background": "light"
     },
     "output_type": "display_data"
    }
   ],
   "source": [
    "# def getCoefficient(N, size): \n",
    "#     covs = [0] * N\n",
    "#     means = [0] * N\n",
    "#     for i in range(N):\n",
    "#         means[i] = np.random.rand(1, 2) * size\n",
    "#         cov = np.random.rand(2, 2) * 10\n",
    "#         x,y = np.random.multivariate_normal(mean, cov, 100).T\n",
    "#         covs[i] = np.cov(x,y)\n",
    "#     return means, covs\n",
    "\n",
    "N = 20\n",
    "n = 100\n",
    "size = 100\n",
    "x = np.linspace(0, size, n)\n",
    "y = np.linspace(0, size, n)\n",
    "xx, yy = np.meshgrid(x, y)\n",
    "zz = np.zeros((n, n))\n",
    "for k in range(N):\n",
    "    means = np.random.rand(2) * size\n",
    "    cov = (np.eye(2)*5 + np.random.randn(2, 2)) * 20\n",
    "    x,y = np.random.multivariate_normal(mean, cov, 100).T\n",
    "    covs = np.cov(x,y)\n",
    "    for i in range(n):\n",
    "        for j in range(n):\n",
    "            zz[i][j] += intGaussian(np.array([xx[i][j], yy[i][j]]), means, covs, 7000)\n",
    "\n",
    "gci = plt.imshow(zz, cmap='Blues', origin='lower')\n",
    "plt.colorbar(shrink = 0.5)\n"
   ]
  },
  {
   "cell_type": "code",
   "execution_count": 110,
   "metadata": {},
   "outputs": [
    {
     "data": {
      "text/plain": [
       "array([[1., 1., 1., ..., 1., 1., 1.],\n",
       "       [1., 1., 1., ..., 1., 1., 0.],\n",
       "       [1., 1., 1., ..., 1., 0., 0.],\n",
       "       ...,\n",
       "       [1., 1., 1., ..., 0., 0., 0.],\n",
       "       [1., 1., 0., ..., 0., 0., 0.],\n",
       "       [1., 0., 0., ..., 0., 0., 0.]])"
      ]
     },
     "execution_count": 110,
     "metadata": {},
     "output_type": "execute_result"
    }
   ],
   "source": [
    "triangle = np.ones((100, 100))\n",
    "for i in range(100):\n",
    "    for j in range(99, 99-i, -1):\n",
    "        triangle[i][j] = 0\n",
    "triangle"
   ]
  },
  {
   "cell_type": "code",
   "execution_count": 116,
   "metadata": {},
   "outputs": [
    {
     "data": {
      "text/plain": [
       "array([[1., 0., 0., ..., 0., 0., 0.],\n",
       "       [0., 1., 0., ..., 0., 0., 0.],\n",
       "       [0., 0., 1., ..., 0., 0., 0.],\n",
       "       ...,\n",
       "       [0., 0., 0., ..., 1., 0., 0.],\n",
       "       [0., 0., 0., ..., 0., 1., 0.],\n",
       "       [0., 0., 0., ..., 0., 0., 1.]])"
      ]
     },
     "execution_count": 116,
     "metadata": {},
     "output_type": "execute_result"
    }
   ],
   "source": [
    "a = np.eye(100)\n",
    "a"
   ]
  },
  {
   "cell_type": "code",
   "execution_count": 117,
   "metadata": {},
   "outputs": [
    {
     "data": {
      "text/plain": [
       "array([[0., 0., 0., ..., 8., 8., 9.],\n",
       "       [0., 0., 0., ..., 9., 9., 0.],\n",
       "       [0., 0., 0., ..., 9., 0., 0.],\n",
       "       ...,\n",
       "       [4., 4., 5., ..., 0., 0., 0.],\n",
       "       [4., 4., 0., ..., 0., 0., 0.],\n",
       "       [3., 0., 0., ..., 0., 0., 0.]])"
      ]
     },
     "execution_count": 117,
     "metadata": {},
     "output_type": "execute_result"
    }
   ],
   "source": [
    "triMine = np.eye(100)\n",
    "for i in range(100):\n",
    "    for j in range(100):\n",
    "        triMine[i][j] = zz[i][j] * triangle[i][j]\n",
    "triMine"
   ]
  },
  {
   "cell_type": "code",
   "execution_count": 120,
   "metadata": {},
   "outputs": [
    {
     "data": {
      "text/plain": [
       "<matplotlib.colorbar.Colorbar at 0x11f8d04a8>"
      ]
     },
     "execution_count": 120,
     "metadata": {},
     "output_type": "execute_result"
    },
    {
     "data": {
      "image/png": "[encoded data removed]",
      "text/plain": [
       "<Figure size 432x288 with 2 Axes>"
      ]
     },
     "metadata": {
      "needs_background": "light"
     },
     "output_type": "display_data"
    }
   ],
   "source": [
    "gci = plt.imshow(triMine, cmap='Blues')\n",
    "plt.colorbar(shrink = 0.5)"
   ]
  },
  {
   "cell_type": "code",
   "execution_count": 142,
   "metadata": {},
   "outputs": [],
   "source": [
    "def dpminer(mine, size):\n",
    "    # 初始化\n",
    "    maxValue = np.zeros([size, size])\n",
    "    maxWay = np.zeros([size, size])\n",
    "    maxMoney = 0\n",
    "\n",
    "    # 计算达到最大值经过的每一个子问题\n",
    "    for i in range(size):\n",
    "        maxValue[size - 1 - i][i] = mine[size - 1 - i][i]\n",
    "    for i in range(size - 2, -1, -1):\n",
    "        for j in range(i+1):\n",
    "            maxValue[i - j][j] = mine[i - j][j] + max(maxValue[i - j + 1][j], maxValue[i - j][j + 1])\n",
    "\n",
    "    # 计算达到最大值所需要经过的点\n",
    "    maxWay[0][0] = 1\n",
    "    j = 0\n",
    "    k = 0\n",
    "    for i in range(size - 1):\n",
    "        if maxValue[j + 1][k] > maxValue[j][k + 1]:\n",
    "            maxWay[j + 1][k] = 1\n",
    "            j = j + 1\n",
    "        else:\n",
    "            maxWay[j][k + 1] = 1\n",
    "            k = k + 1\n",
    "\n",
    "    # 计算最大价值\n",
    "    maxMoney = maxValue[0][0]\n",
    "\n",
    "    return maxMoney, maxWay, maxValue\n"
   ]
  },
  {
   "cell_type": "code",
   "execution_count": 143,
   "metadata": {},
   "outputs": [],
   "source": [
    "maxMoney, maxWay, maxValue = dpminer(triMine, n)"
   ]
  },
  {
   "cell_type": "code",
   "execution_count": 144,
   "metadata": {},
   "outputs": [
    {
     "data": {
      "text/plain": [
       "array([[1244., 1244., 1244., ...,   26.,   17.,    9.],\n",
       "       [1241., 1241., 1241., ...,   18.,    9.,    0.],\n",
       "       [1240., 1240., 1240., ...,    9.,    0.,    0.],\n",
       "       ...,\n",
       "       [  13.,    9.,    5., ...,    0.,    0.,    0.],\n",
       "       [   8.,    4.,    0., ...,    0.,    0.,    0.],\n",
       "       [   3.,    0.,    0., ...,    0.,    0.,    0.]])"
      ]
     },
     "execution_count": 144,
     "metadata": {},
     "output_type": "execute_result"
    }
   ],
   "source": [
    "maxValue"
   ]
  },
  {
   "cell_type": "code",
   "execution_count": 145,
   "metadata": {},
   "outputs": [
    {
     "data": {
      "text/plain": [
       "array([[1., 1., 1., ..., 0., 0., 0.],\n",
       "       [0., 0., 0., ..., 0., 0., 0.],\n",
       "       [0., 0., 0., ..., 0., 0., 0.],\n",
       "       ...,\n",
       "       [0., 0., 0., ..., 0., 0., 0.],\n",
       "       [0., 0., 0., ..., 0., 0., 0.],\n",
       "       [0., 0., 0., ..., 0., 0., 0.]])"
      ]
     },
     "execution_count": 145,
     "metadata": {},
     "output_type": "execute_result"
    }
   ],
   "source": [
    "maxWay"
   ]
  },
  {
   "cell_type": "code",
   "execution_count": 146,
   "metadata": {},
   "outputs": [
    {
     "data": {
      "image/png": "[encoded data removed]",
      "text/plain": [
       "<Figure size 432x288 with 1 Axes>"
      ]
     },
     "metadata": {
      "needs_background": "light"
     },
     "output_type": "display_data"
    }
   ],
   "source": [
    "plt.imshow(maxWay, cmap='Blues')\n",
    "plt.show()"
   ]
  },
  {
   "cell_type": "code",
   "execution_count": 147,
   "metadata": {},
   "outputs": [
    {
     "data": {
      "image/png": "[encoded data removed]",
      "text/plain": [
       "<Figure size 432x288 with 2 Axes>"
      ]
     },
     "metadata": {
      "needs_background": "light"
     },
     "output_type": "display_data"
    }
   ],
   "source": [
    "combine = np.zeros([n,n])\n",
    "for i in range(n):\n",
    "    for j in range(n):\n",
    "        combine[i][j] = maxWay[i][j] * 25 + triMine[i][j]\n",
    "plt.imshow(combine, cmap='Blues')\n",
    "plt.colorbar(shrink = 0.5)\n",
    "plt.show()"
   ]
  },
  {
   "cell_type": "code",
   "execution_count": null,
   "metadata": {},
   "outputs": [],
   "source": []
  }
 ],
 "metadata": {
  "kernelspec": {
   "display_name": "Python 3",
   "language": "python",
   "name": "python3"
  },
  "language_info": {
   "codemirror_mode": {
    "name": "ipython",
    "version": 3
   },
   "file_extension": ".py",
   "mimetype": "text/x-python",
   "name": "python",
   "nbconvert_exporter": "python",
   "pygments_lexer": "ipython3",
   "version": "3.7.2"
  }
 },
 "nbformat": 4,
 "nbformat_minor": 2
}
