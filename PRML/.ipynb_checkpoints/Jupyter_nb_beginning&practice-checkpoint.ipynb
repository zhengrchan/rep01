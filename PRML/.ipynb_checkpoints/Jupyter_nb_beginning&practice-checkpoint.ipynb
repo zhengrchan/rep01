{
 "cells": [
  {
   "cell_type": "code",
   "execution_count": 2,
   "metadata": {},
   "outputs": [
    {
     "name": "stdout",
     "output_type": "stream",
     "text": [
      "hello world\n"
     ]
    }
   ],
   "source": [
    "print(\"hello world\")"
   ]
  },
  {
   "cell_type": "markdown",
   "metadata": {},
   "source": [
    "# Recommended keyboard shortcuts\n",
    "| keyboard shortcuts | function |\n",
    "| -------: | :-------|\n",
    "| Enter | into edit mode |\n",
    "| Ctrl M & Esc | exit edit mode |\n",
    "| Ctrl Enter | run cell |\n",
    "| Shift Enter | run cell & into next |\n",
    "| A & B | add cell above & below |\n",
    "| Y & M & R | into `code` `markdown` `raw`|\n",
    "| P | find command |\n",
    "| H | help |"
   ]
  },
  {
   "cell_type": "code",
   "execution_count": 8,
   "metadata": {},
   "outputs": [],
   "source": [
    "import numpy as np"
   ]
  },
  {
   "cell_type": "markdown",
   "metadata": {},
   "source": [
    "# Markdown "
   ]
  },
  {
   "cell_type": "markdown",
   "metadata": {},
   "source": [
    "# Chapter 1\n",
    "## Chapter 2\n",
    "### Chapter 3\n",
    "#### Chapter 4\n",
    "##### Chapter 5\n",
    "###### Chapter 6\n",
    "\n",
    "> quote\n",
    "\n",
    "```cpp\n",
    "int main() {\n",
    "    return 0;\n",
    "}\n",
    "```\n",
    "----------------\n",
    "- part1\n",
    "- part2\n",
    "\n",
    "**Bold**\n",
    "~~Delete~~\n",
    "`cube`\n",
    "[1] hello\n",
    "[2] world"
   ]
  },
  {
   "cell_type": "markdown",
   "metadata": {},
   "source": [
    "# Run local python code\n",
    "```\n",
    "%load <absolutely address>\n",
    "    or\n",
    "%run <absolutely address> /( !python3 <absolutely address>\n",
    "\n",
    "```"
   ]
  },
  {
   "cell_type": "code",
   "execution_count": 10,
   "metadata": {},
   "outputs": [
    {
     "name": "stdout",
     "output_type": "stream",
     "text": [
      "hello world\n",
      "hello jupyter notebook\n"
     ]
    }
   ],
   "source": [
    "# %load ~/rep01/PRML/beginning.py\n",
    "#!/usr/bin/env python\n",
    "\n",
    "print(\"hello world\")\n",
    "print(\"hello jupyter notebook\")\n",
    "\n",
    "\n"
   ]
  },
  {
   "cell_type": "code",
   "execution_count": 11,
   "metadata": {},
   "outputs": [
    {
     "name": "stdout",
     "output_type": "stream",
     "text": [
      "hello world\n",
      "hello jupyter notebook\n"
     ]
    }
   ],
   "source": [
    "%run ~/rep01/PRML/beginning.py\n"
   ]
  },
  {
   "cell_type": "code",
   "execution_count": 13,
   "metadata": {},
   "outputs": [
    {
     "name": "stdout",
     "output_type": "stream",
     "text": [
      "hello world\r\n",
      "hello jupyter notebook\r\n"
     ]
    }
   ],
   "source": [
    "!python3 ~/rep01/PRML/beginning.py\n"
   ]
  },
  {
   "cell_type": "markdown",
   "metadata": {},
   "source": [
    "# Get the absolute address of this file\n",
    "```\n",
    "%pwd\n",
    "    or\n",
    "!pwd\n",
    "```"
   ]
  },
  {
   "cell_type": "code",
   "execution_count": 14,
   "metadata": {},
   "outputs": [
    {
     "data": {
      "text/plain": [
       "'/home/zhengrchan/rep01/PRML'"
      ]
     },
     "execution_count": 14,
     "metadata": {},
     "output_type": "execute_result"
    }
   ],
   "source": [
    "%pwd"
   ]
  },
  {
   "cell_type": "markdown",
   "metadata": {},
   "source": [
    "# Run shell command\n",
    "- in the notebook\n",
    "```\n",
    "!<shell command>\n",
    "```\n",
    "- add a Terminal in main page"
   ]
  },
  {
   "cell_type": "code",
   "execution_count": 16,
   "metadata": {},
   "outputs": [
    {
     "name": "stdout",
     "output_type": "stream",
     "text": [
      "beginning.py  Jupyter_nb_beginning&practice.ipynb\r\n"
     ]
    }
   ],
   "source": [
    "!ls"
   ]
  },
  {
   "cell_type": "code",
   "execution_count": null,
   "metadata": {},
   "outputs": [],
   "source": []
  }
 ],
 "metadata": {
  "kernelspec": {
   "display_name": "Python 3",
   "language": "python",
   "name": "python3"
  },
  "language_info": {
   "codemirror_mode": {
    "name": "ipython",
    "version": 3
   },
   "file_extension": ".py",
   "mimetype": "text/x-python",
   "name": "python",
   "nbconvert_exporter": "python",
   "pygments_lexer": "ipython3",
   "version": "3.5.2"
  }
 },
 "nbformat": 4,
 "nbformat_minor": 2
}
